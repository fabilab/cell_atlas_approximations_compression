{
 "cells": [
  {
   "cell_type": "code",
   "execution_count": 1,
   "id": "3c5edc9f",
   "metadata": {
    "scrolled": false
   },
   "outputs": [
    {
     "name": "stdout",
     "output_type": "stream",
     "text": [
      "{'Antenna': PosixPath('/Users/z5466829/cell_atlas_approximations_compression/data/full_atlases/drosophila_melanogaster/s_fca_biohub_antenna_10x.h5ad'), 'Haltere': PosixPath('/Users/z5466829/cell_atlas_approximations_compression/data/full_atlases/drosophila_melanogaster/s_fca_biohub_haltere_10x.h5ad'), 'Head': PosixPath('/Users/z5466829/cell_atlas_approximations_compression/data/full_atlases/drosophila_melanogaster/s_fca_biohub_head_10x.h5ad'), 'Heart': PosixPath('/Users/z5466829/cell_atlas_approximations_compression/data/full_atlases/drosophila_melanogaster/s_fca_biohub_heart_10x.h5ad'), 'Intestines': PosixPath('/Users/z5466829/cell_atlas_approximations_compression/data/full_atlases/drosophila_melanogaster/s_fca_biohub_gut_10x.h5ad'), 'Leg': PosixPath('/Users/z5466829/cell_atlas_approximations_compression/data/full_atlases/drosophila_melanogaster/s_fca_biohub_leg_10x.h5ad'), 'Male_reproductive_glands': PosixPath('/Users/z5466829/cell_atlas_approximations_compression/data/full_atlases/drosophila_melanogaster/s_fca_biohub_male_reproductive_glands_10x.h5ad'), 'Malpighian_tubule': PosixPath('/Users/z5466829/cell_atlas_approximations_compression/data/full_atlases/drosophila_melanogaster/s_fca_biohub_malpighian_tubule_10x.h5ad'), 'Oenocyte': PosixPath('/Users/z5466829/cell_atlas_approximations_compression/data/full_atlases/drosophila_melanogaster/s_fca_biohub_oenocyte_10x.h5ad'), 'Ovary': PosixPath('/Users/z5466829/cell_atlas_approximations_compression/data/full_atlases/drosophila_melanogaster/s_fca_biohub_ovary_10x.h5ad'), 'Proboscis_and_maxillary_palps': PosixPath('/Users/z5466829/cell_atlas_approximations_compression/data/full_atlases/drosophila_melanogaster/s_fca_biohub_proboscis_and_maxillary_palps_10x.h5ad'), 'Skin': PosixPath('/Users/z5466829/cell_atlas_approximations_compression/data/full_atlases/drosophila_melanogaster/s_fca_biohub_body_wall_10x.h5ad'), 'Testis': PosixPath('/Users/z5466829/cell_atlas_approximations_compression/data/full_atlases/drosophila_melanogaster/r_fca_biohub_testis_10x.h5ad'), 'Trachea': PosixPath('/Users/z5466829/cell_atlas_approximations_compression/data/full_atlases/drosophila_melanogaster/s_fca_biohub_trachea_10x.h5ad'), 'Wing': PosixPath('/Users/z5466829/cell_atlas_approximations_compression/data/full_atlases/drosophila_melanogaster/s_fca_biohub_wing_10x.h5ad')}\n",
      "1 out of 14 7 % Antenna\n",
      "Load data for this tissue\n",
      "Restart from raw data and renormalize\n",
      "Data is logp1 of cptt, so undo the log bit\n",
      "Exclude cells that have inconsistencies in their annotation\n",
      "Exclude \"unannotated\"\n",
      "Fix cell type annotations\n"
     ]
    },
    {
     "name": "stderr",
     "output_type": "stream",
     "text": [
      "/var/folders/k8/9py9t33s5fs7pv2n0q4k25qr0000gq/T/ipykernel_63390/351612682.py:169: ImplicitModificationWarning: Trying to modify attribute `.obs` of view, initializing view as actual.\n",
      "  adata_tissue.obs['cellType'] = fix_annotations(\n"
     ]
    },
    {
     "name": "stdout",
     "output_type": "stream",
     "text": [
      "cellType\n",
      "neuron        12206\n",
      "epithelial     8020\n",
      "glial          2303\n",
      "muscle          409\n",
      "hemocyte         67\n",
      "Name: count, dtype: int64\n",
      "Average\n",
      "2 out of 14 8 % Haltere\n",
      "Load data for this tissue\n",
      "Restart from raw data and renormalize\n",
      "Data is logp1 of cptt, so undo the log bit\n",
      "Exclude cells that have inconsistencies in their annotation\n",
      "Exclude \"unannotated\"\n",
      "Fix cell type annotations\n"
     ]
    },
    {
     "name": "stderr",
     "output_type": "stream",
     "text": [
      "/var/folders/k8/9py9t33s5fs7pv2n0q4k25qr0000gq/T/ipykernel_63390/351612682.py:169: ImplicitModificationWarning: Trying to modify attribute `.obs` of view, initializing view as actual.\n",
      "  adata_tissue.obs['cellType'] = fix_annotations(\n"
     ]
    },
    {
     "name": "stdout",
     "output_type": "stream",
     "text": [
      "cellType\n",
      "epithelial    3511\n",
      "neuron         929\n",
      "adipocyte      346\n",
      "hemocyte       292\n",
      "glial          164\n",
      "muscle          39\n",
      "Name: count, dtype: int64\n",
      "Average\n",
      "3 out of 14 9 % Heart\n",
      "Load data for this tissue\n",
      "Restart from raw data and renormalize\n",
      "Data is logp1 of cptt, so undo the log bit\n",
      "Exclude cells that have inconsistencies in their annotation\n",
      "Exclude \"unannotated\"\n",
      "Fix cell type annotations\n"
     ]
    },
    {
     "name": "stderr",
     "output_type": "stream",
     "text": [
      "/var/folders/k8/9py9t33s5fs7pv2n0q4k25qr0000gq/T/ipykernel_63390/351612682.py:169: ImplicitModificationWarning: Trying to modify attribute `.obs` of view, initializing view as actual.\n",
      "  adata_tissue.obs['cellType'] = fix_annotations(\n"
     ]
    },
    {
     "name": "stdout",
     "output_type": "stream",
     "text": [
      "cellType\n",
      "epithelial    1944\n",
      "oenocyte      1083\n",
      "hemocyte      1049\n",
      "adipocyte      830\n",
      "muscle         799\n",
      "               671\n",
      "cardial        354\n",
      "neuron         309\n",
      "tracheolar     155\n",
      "gland cell      43\n",
      "Name: count, dtype: int64\n",
      "Average\n",
      "4 out of 14 10 % Intestines\n",
      "Load data for this tissue\n",
      "Restart from raw data and renormalize\n",
      "Data is logp1 of cptt, so undo the log bit\n",
      "Exclude cells that have inconsistencies in their annotation\n",
      "Exclude \"unannotated\"\n",
      "Fix cell type annotations\n"
     ]
    },
    {
     "name": "stderr",
     "output_type": "stream",
     "text": [
      "/var/folders/k8/9py9t33s5fs7pv2n0q4k25qr0000gq/T/ipykernel_63390/351612682.py:169: ImplicitModificationWarning: Trying to modify attribute `.obs` of view, initializing view as actual.\n",
      "  adata_tissue.obs['cellType'] = fix_annotations(\n"
     ]
    },
    {
     "name": "stdout",
     "output_type": "stream",
     "text": [
      "cellType\n",
      "epithelial    9388\n",
      "stem cell      769\n",
      "muscle         553\n",
      "               329\n",
      "gland cell      56\n",
      "adipocyte       13\n",
      "Name: count, dtype: int64\n",
      "Average\n",
      "5 out of 14 11 % Leg\n",
      "Load data for this tissue\n",
      "Restart from raw data and renormalize\n",
      "Data is logp1 of cptt, so undo the log bit\n",
      "Exclude cells that have inconsistencies in their annotation\n",
      "Exclude \"unannotated\"\n",
      "Fix cell type annotations\n"
     ]
    },
    {
     "name": "stderr",
     "output_type": "stream",
     "text": [
      "/var/folders/k8/9py9t33s5fs7pv2n0q4k25qr0000gq/T/ipykernel_63390/351612682.py:169: ImplicitModificationWarning: Trying to modify attribute `.obs` of view, initializing view as actual.\n",
      "  adata_tissue.obs['cellType'] = fix_annotations(\n"
     ]
    },
    {
     "name": "stdout",
     "output_type": "stream",
     "text": [
      "cellType\n",
      "muscle        5891\n",
      "epithelial    4894\n",
      "neuron        1513\n",
      "glial          450\n",
      "hemocyte       221\n",
      "tracheolar      97\n",
      "Name: count, dtype: int64\n",
      "Average\n",
      "6 out of 14 12 % Male_reproductive_glands\n",
      "Load data for this tissue\n",
      "Restart from raw data and renormalize\n",
      "Data is logp1 of cptt, so undo the log bit\n",
      "Exclude cells that have inconsistencies in their annotation\n",
      "Exclude \"unannotated\"\n",
      "Fix cell type annotations\n"
     ]
    },
    {
     "name": "stderr",
     "output_type": "stream",
     "text": [
      "/var/folders/k8/9py9t33s5fs7pv2n0q4k25qr0000gq/T/ipykernel_63390/351612682.py:169: ImplicitModificationWarning: Trying to modify attribute `.obs` of view, initializing view as actual.\n",
      "  adata_tissue.obs['cellType'] = fix_annotations(\n"
     ]
    },
    {
     "name": "stdout",
     "output_type": "stream",
     "text": [
      "cellType\n",
      "gland cell       9862\n",
      "epithelial       1943\n",
      "male germline     434\n",
      "muscle            412\n",
      "                  250\n",
      "hemocyte          108\n",
      "adipocyte          59\n",
      "Name: count, dtype: int64\n",
      "Average\n",
      "7 out of 14 13 % Malpighian_tubule\n",
      "Load data for this tissue\n",
      "Restart from raw data and renormalize\n",
      "Data is logp1 of cptt, so undo the log bit\n",
      "Exclude cells that have inconsistencies in their annotation\n",
      "Exclude \"unannotated\"\n",
      "Fix cell type annotations\n"
     ]
    },
    {
     "name": "stderr",
     "output_type": "stream",
     "text": [
      "/var/folders/k8/9py9t33s5fs7pv2n0q4k25qr0000gq/T/ipykernel_63390/351612682.py:169: ImplicitModificationWarning: Trying to modify attribute `.obs` of view, initializing view as actual.\n",
      "  adata_tissue.obs['cellType'] = fix_annotations(\n"
     ]
    },
    {
     "name": "stdout",
     "output_type": "stream",
     "text": [
      "cellType\n",
      "              9061\n",
      "stem cell     2271\n",
      "gland cell     876\n",
      "epithelial     840\n",
      "tracheolar     104\n",
      "adipocyte       59\n",
      "muscle          27\n",
      "oenocyte        20\n",
      "Name: count, dtype: int64\n",
      "Average\n",
      "8 out of 14 14 % Oenocyte\n",
      "Load data for this tissue\n",
      "Restart from raw data and renormalize\n",
      "Data is logp1 of cptt, so undo the log bit\n",
      "Exclude cells that have inconsistencies in their annotation\n",
      "Exclude \"unannotated\"\n",
      "Fix cell type annotations\n"
     ]
    },
    {
     "name": "stderr",
     "output_type": "stream",
     "text": [
      "/var/folders/k8/9py9t33s5fs7pv2n0q4k25qr0000gq/T/ipykernel_63390/351612682.py:169: ImplicitModificationWarning: Trying to modify attribute `.obs` of view, initializing view as actual.\n",
      "  adata_tissue.obs['cellType'] = fix_annotations(\n"
     ]
    },
    {
     "name": "stdout",
     "output_type": "stream",
     "text": [
      "cellType\n",
      "oenocyte      3749\n",
      "muscle        2886\n",
      "adipocyte     2621\n",
      "              1028\n",
      "epithelial     858\n",
      "tracheolar     207\n",
      "hemocyte       165\n",
      "neuron         138\n",
      "gland cell     108\n",
      "cardial         20\n",
      "Name: count, dtype: int64\n",
      "Average\n",
      "9 out of 14 15 % Ovary\n",
      "Load data for this tissue\n",
      "Restart from raw data and renormalize\n",
      "Data is logp1 of cptt, so undo the log bit\n",
      "Exclude cells that have inconsistencies in their annotation\n",
      "Exclude \"unannotated\"\n",
      "Fix cell type annotations\n"
     ]
    },
    {
     "name": "stderr",
     "output_type": "stream",
     "text": [
      "/var/folders/k8/9py9t33s5fs7pv2n0q4k25qr0000gq/T/ipykernel_63390/351612682.py:169: ImplicitModificationWarning: Trying to modify attribute `.obs` of view, initializing view as actual.\n",
      "  adata_tissue.obs['cellType'] = fix_annotations(\n"
     ]
    },
    {
     "name": "stdout",
     "output_type": "stream",
     "text": [
      "cellType\n",
      "                   16252\n",
      "female germline     3961\n",
      "epithelial          1614\n",
      "stem cell            339\n",
      "muscle               315\n",
      "tracheolar            95\n",
      "Name: count, dtype: int64\n",
      "Average\n",
      "10 out of 14 16 % Proboscis_and_maxillary_palps\n",
      "Load data for this tissue\n",
      "Restart from raw data and renormalize\n",
      "Data is logp1 of cptt, so undo the log bit\n",
      "Exclude cells that have inconsistencies in their annotation\n",
      "Exclude \"unannotated\"\n",
      "Fix cell type annotations\n"
     ]
    },
    {
     "name": "stderr",
     "output_type": "stream",
     "text": [
      "/var/folders/k8/9py9t33s5fs7pv2n0q4k25qr0000gq/T/ipykernel_63390/351612682.py:169: ImplicitModificationWarning: Trying to modify attribute `.obs` of view, initializing view as actual.\n",
      "  adata_tissue.obs['cellType'] = fix_annotations(\n"
     ]
    },
    {
     "name": "stdout",
     "output_type": "stream",
     "text": [
      "cellType\n",
      "epithelial    14260\n",
      "neuron         5443\n",
      "muscle         4367\n",
      "glial           635\n",
      "tracheolar      305\n",
      "adipocyte       293\n",
      "hemocyte        169\n",
      "Name: count, dtype: int64\n",
      "Average\n",
      "11 out of 14 17 % Skin\n",
      "Load data for this tissue\n",
      "Restart from raw data and renormalize\n",
      "Data is logp1 of cptt, so undo the log bit\n",
      "Exclude cells that have inconsistencies in their annotation\n",
      "Exclude \"unannotated\"\n",
      "Fix cell type annotations\n"
     ]
    },
    {
     "name": "stderr",
     "output_type": "stream",
     "text": [
      "/var/folders/k8/9py9t33s5fs7pv2n0q4k25qr0000gq/T/ipykernel_63390/351612682.py:169: ImplicitModificationWarning: Trying to modify attribute `.obs` of view, initializing view as actual.\n",
      "  adata_tissue.obs['cellType'] = fix_annotations(\n"
     ]
    },
    {
     "name": "stdout",
     "output_type": "stream",
     "text": [
      "cellType\n",
      "muscle        6308\n",
      "epithelial    4197\n",
      "oenocyte      1389\n",
      "adipocyte     1267\n",
      "neuron         718\n",
      "hemocyte       558\n",
      "tracheolar     384\n",
      "glial          201\n",
      "                80\n",
      "gland cell      24\n",
      "Name: count, dtype: int64\n",
      "Average\n",
      "12 out of 14 18 % Testis\n",
      "Load data for this tissue\n",
      "Restart from raw data and renormalize\n",
      "Data is logp1 of cptt, so undo the log bit\n",
      "Exclude cells that have inconsistencies in their annotation\n",
      "Exclude \"unannotated\"\n",
      "Fix cell type annotations\n",
      "cellType\n",
      "male germline    18441\n",
      "                 15302\n",
      "muscle            3169\n",
      "hemocyte           699\n",
      "tracheolar         563\n",
      "stem cell          262\n",
      "adipocyte          106\n",
      "Name: count, dtype: int64\n",
      "Average\n"
     ]
    },
    {
     "name": "stderr",
     "output_type": "stream",
     "text": [
      "/var/folders/k8/9py9t33s5fs7pv2n0q4k25qr0000gq/T/ipykernel_63390/351612682.py:169: ImplicitModificationWarning: Trying to modify attribute `.obs` of view, initializing view as actual.\n",
      "  adata_tissue.obs['cellType'] = fix_annotations(\n"
     ]
    },
    {
     "name": "stdout",
     "output_type": "stream",
     "text": [
      "13 out of 14 19 % Trachea\n",
      "Load data for this tissue\n",
      "Restart from raw data and renormalize\n",
      "Data is logp1 of cptt, so undo the log bit\n",
      "Exclude cells that have inconsistencies in their annotation\n",
      "Exclude \"unannotated\"\n",
      "Fix cell type annotations\n"
     ]
    },
    {
     "name": "stderr",
     "output_type": "stream",
     "text": [
      "/var/folders/k8/9py9t33s5fs7pv2n0q4k25qr0000gq/T/ipykernel_63390/351612682.py:169: ImplicitModificationWarning: Trying to modify attribute `.obs` of view, initializing view as actual.\n",
      "  adata_tissue.obs['cellType'] = fix_annotations(\n"
     ]
    },
    {
     "name": "stdout",
     "output_type": "stream",
     "text": [
      "cellType\n",
      "              10337\n",
      "tracheolar     9508\n",
      "neuron          502\n",
      "muscle          218\n",
      "adipocyte        61\n",
      "Name: count, dtype: int64\n",
      "Average\n",
      "14 out of 14 20 % Wing\n",
      "Load data for this tissue\n",
      "Restart from raw data and renormalize\n",
      "Data is logp1 of cptt, so undo the log bit\n",
      "Exclude cells that have inconsistencies in their annotation\n",
      "Exclude \"unannotated\"\n",
      "Fix cell type annotations\n"
     ]
    },
    {
     "name": "stderr",
     "output_type": "stream",
     "text": [
      "/var/folders/k8/9py9t33s5fs7pv2n0q4k25qr0000gq/T/ipykernel_63390/351612682.py:169: ImplicitModificationWarning: Trying to modify attribute `.obs` of view, initializing view as actual.\n",
      "  adata_tissue.obs['cellType'] = fix_annotations(\n"
     ]
    },
    {
     "name": "stdout",
     "output_type": "stream",
     "text": [
      "cellType\n",
      "neuron      3415\n",
      "glial        649\n",
      "hemocyte     158\n",
      "muscle       144\n",
      "Name: count, dtype: int64\n",
      "Average\n",
      "Consolidate gene list across tissues\n",
      "Antenna 13203\n",
      "Haltere 12158\n",
      "Heart 12674\n",
      "Intestines 13407\n",
      "Leg 11164\n",
      "Male_reproductive_glands 13668\n",
      "Malpighian_tubule 12843\n",
      "Oenocyte 14644\n",
      "Ovary 12460\n",
      "Proboscis_and_maxillary_palps 12802\n",
      "Skin 12924\n",
      "Testis 15833\n",
      "Trachea 14649\n",
      "Wing 13411\n",
      "Add gene annotations\n",
      "Store compressed atlas to file\n"
     ]
    }
   ],
   "source": [
    "# vim: fdm=indent\n",
    "\n",
    "#author:joanna ahn\n",
    "#date: 28/06/23\n",
    "#content: compress drosophila melanogaster\n",
    "\n",
    "\n",
    "import os\n",
    "import numpy as np\n",
    "import pandas as pd\n",
    "\n",
    "import anndata\n",
    "import scanpy as sc\n",
    "\n",
    "from utils import (\n",
    "    root_repo_folder,\n",
    "    output_folder,\n",
    "    #get_tissue_data_dict,\n",
    "    fix_annotations,\n",
    "    get_celltype_order,\n",
    "    collect_gene_annotations,\n",
    "    store_compressed_atlas,\n",
    "    )\n",
    "\n",
    "species = 'd_melanogaster'\n",
    "full_atlas_data_folder = root_repo_folder / 'data' / 'full_atlases' / 'drosophila_melanogaster'\n",
    "anno_fn = root_repo_folder / 'data' / 'gene_annotations' / 'dmel-all-r6.31.gtf.gz'  # see paper methods: https://www.science.org/doi/10.1126/science.abk2432\n",
    "fn_out = output_folder / f'{species}.h5'\n",
    "\n",
    "def get_tissue_data_dict(species, full_atlas_data_folder, rename_dict):\n",
    "    result = []\n",
    "    filenames = os.listdir(full_atlas_data_folder)\n",
    "    fns = [x for x in filenames if '.h5ad' in x]\n",
    "\n",
    "    for filename in fns:\n",
    "        tissue_start = filename.find('biohub_') + len(\"biohub_\")\n",
    "        tissue_end = filename.rfind('_')\n",
    "        tissue = filename [tissue_start:tissue_end]\n",
    "        # TODO: rescue cell types that are found only in \"body\"\n",
    "        if tissue == \"body\":\n",
    "            continue \n",
    "          \n",
    "        tissue = tissue.capitalize()\n",
    "        tissue = rename_dict['tissues'].get(tissue, tissue)\n",
    "                \n",
    "        result.append({\n",
    "            'tissue': tissue,\n",
    "            'filename': full_atlas_data_folder / filename,\n",
    "        })\n",
    "    \n",
    "    # assigning new value to result\n",
    "    result = pd.DataFrame(result).set_index('tissue')\n",
    "    # Order tissues alphabetically\n",
    "    result = result.sort_index()['filename'].to_dict()\n",
    "    return result\n",
    "\n",
    "rename_dict = {\n",
    "    'tissues': {\n",
    "          'Body_wall': 'Skin',\n",
    "          'Gut': 'Intestines',\n",
    "          \n",
    "         \n",
    "    },\n",
    "    'cell_types': {\n",
    "        'sensory neuron': 'neuron',\n",
    "        'epithelial cell': 'epithelial',\n",
    "        'glial cell': 'glial',\n",
    "        'muscle cell': 'muscle',\n",
    "        'fat cell': 'adipocyte',\n",
    "        'somatic precursor cell': 'stem cell',\n",
    "        'gland': 'gland cell',\n",
    "        'cardial cell': 'cardial',\n",
    "        'tracheolar cell': 'tracheolar',\n",
    "        'male germline cell': 'male germline',\n",
    "        'female germline cell': 'female germline',\n",
    "        'artefact': \"\",\n",
    "        # TODO: split the various types in the following \"systems\"\n",
    "        'excretory system': \"\",\n",
    "        'male reproductive system': \"\",\n",
    "        'female reproductive system': \"\",\n",
    "    }\n",
    "}\n",
    "\n",
    "celltype_tissue_blacklist = {\n",
    "}\n",
    "      \n",
    "coarse_cell_types = [\n",
    "      \n",
    "]\n",
    "\n",
    "\n",
    "celltype_order = [\n",
    "    ('immune', [\n",
    "        'neuron',\n",
    "        'hemocyte',\n",
    "    ]),\n",
    "    ('epithelial', [\n",
    "        'epithelial',\n",
    "    ]),\n",
    "    ('endothelial', [\n",
    "        \n",
    "    ]),\n",
    "    ('mesenchymal', [\n",
    "        'adipocyte',\n",
    "        'stem cell',\n",
    "        'oenocyte',\n",
    "    ]),\n",
    "    ('other', [\n",
    "        'muscle',\n",
    "        'glial',\n",
    "        'pigment cell',\n",
    "        'gland cell',\n",
    "        'tracheolar',\n",
    "        'cardial',\n",
    "        'male germline',\n",
    "        'female germline',\n",
    "        'ovary'\n",
    "    ]),\n",
    "]\n",
    "\n",
    "if __name__ == '__main__':\n",
    "#Remove existing compressed atlas file if present \n",
    "    if os.path.isfile(fn_out):\n",
    "        os.remove(fn_out)\n",
    "\n",
    "    compressed_atlas = {}\n",
    "\n",
    "    tissue_sources = get_tissue_data_dict( \n",
    "        \"d.melanogaster\", full_atlas_data_folder, rename_dict)\n",
    "    \n",
    "    print(tissue_sources)\n",
    "    tissues = list(tissue_sources.keys())\n",
    "    \n",
    "    tissues = [t for t in tissues if t != 'Head']\n",
    "    tissue_sources = {key: value for key, value in tissue_sources.items() if key != \"Head\"}\n",
    "\n",
    "#skip_tissues = ['Antenna', 'Brain', 'Gut', 'Haltere', 'Heart', 'Leg', 'Male_reproductive_glands', 'Malpighian_tubule', 'Oenocyte']\n",
    "\n",
    "for it, (tissue, full_atlas_fn) in enumerate(tissue_sources.items()):\n",
    "\n",
    "        #print(tissue)\n",
    "        print(it+1, 'out of', len(tissues), (it + 1 * 100 // len(tissues)), '%', tissue)\n",
    "\n",
    "        print('Load data for this tissue')\n",
    "        adata_tissue = anndata.read(tissue_sources[tissue])\n",
    "        \n",
    "        #if tissue == \"Head\":\n",
    "        #    continue\n",
    "        #    #sc.pp.subsample(adata_tissue, fraction=0.1)\n",
    "\n",
    "        #Renormalise to cptt\n",
    "        print('Restart from raw data and renormalize')\n",
    "        adata_tissue = adata_tissue.raw.to_adata()\n",
    "\n",
    "        print('Data is logp1 of cptt, so undo the log bit')\n",
    "        adata_tissue.X.data[:] = np.exp(adata_tissue.X.data) - 1\n",
    "\n",
    "        print('Exclude cells that have inconsistencies in their annotation')\n",
    "        #adata_tissue = adata_tissue[adata_tissue.obs['annotation_broad'] == adata_tissue.obs['R_annotation_broad']] (no longer needed?)\n",
    "        if 'R_annoation_broad' in adata_tissue.obs:\n",
    "                adata_tissue.obs['annotation_broad'] = adata_tissue.obs['R_annotation_broad'].astype(str)\n",
    "        elif 'S_annotation_broad' in adata_tissue.obs:\n",
    "                adata_tissue.obs['annotation_broad'] = adata_tissue.obs['S_annotation_broad'].astype(str)\n",
    "        \n",
    "        print('Exclude \"unannotated\"')\n",
    "        adata_tissue = adata_tissue[adata_tissue.obs['annotation_broad'] != 'unannotated']\n",
    "        \n",
    "        print('Fix cell type annotations')\n",
    "        adata_tissue.obs['cellType'] = fix_annotations(\n",
    "                adata_tissue, 'annotation_broad', species, tissue,\n",
    "                rename_dict, coarse_cell_types,\n",
    "            )\n",
    "\n",
    "        print(adata_tissue.obs['cellType'].value_counts())\n",
    "\n",
    "        # Correction might declare some cells as untyped/low quality\n",
    "        # they have an empty string instead of an actual annotation\n",
    "        if (adata_tissue.obs['cellType'] == '').sum() > 0:\n",
    "            idx = adata_tissue.obs['cellType'] != ''\n",
    "            adata_tissue = adata_tissue[idx]\n",
    "\n",
    "        celltypes = get_celltype_order(\n",
    "            adata_tissue.obs['cellType'].value_counts().index,\n",
    "            celltype_order,\n",
    "        )\n",
    "    \n",
    "        print('Average')\n",
    "        genes = adata_tissue.var_names\n",
    "        avg_ge = pd.DataFrame(\n",
    "                    np.zeros((len(genes), len(celltypes)), np.float32),\n",
    "                    index=genes,\n",
    "                    columns=celltypes,\n",
    "                    )\n",
    "        frac_ge = pd.DataFrame(\n",
    "                    np.zeros((len(genes), len(celltypes)), np.float32),\n",
    "                    index=genes,\n",
    "                    columns=celltypes,\n",
    "                    )\n",
    "        ncells_ge = pd.Series(\n",
    "                    np.zeros(len(celltypes), np.int64), index=celltypes,\n",
    "                    )\n",
    "        for celltype in celltypes:\n",
    "            idx = adata_tissue.obs['cellType'] == celltype\n",
    "            Xidx = adata_tissue[idx].X\n",
    "            avg_ge[celltype] = np.asarray(Xidx.mean(axis=0))[0]\n",
    "            frac_ge[celltype] = np.asarray((Xidx > 0).mean(axis=0))[0]\n",
    "            ncells_ge[celltype] = idx.sum()\n",
    "\n",
    "        compressed_atlas[tissue] = {\n",
    "            \"features\": genes,\n",
    "            \"celltype\": {\n",
    "                \"avg\": avg_ge,\n",
    "                \"frac\": frac_ge,\n",
    "                \"ncells\": ncells_ge,\n",
    "            },\n",
    "        }\n",
    "\n",
    "print('Consolidate gene list across tissues')\n",
    "# Identify union of all gene lists via unique operations\n",
    "genes = set()\n",
    "for tissue, tdict in compressed_atlas.items():\n",
    "    genest = list(tdict['features'])\n",
    "    print(tissue, len(genest))\n",
    "    genes = genes.union(set(genest))\n",
    "genes = list(genes)\n",
    "\n",
    "# Adapt the count tables for each tissue to use those genes, pad with zeros\n",
    "for tissue, tdict in compressed_atlas.items():\n",
    "    for table_name in ['avg', 'frac']:\n",
    "        table = tdict['celltype'][table_name]\n",
    "        genes_tissue = table.index\n",
    "        # Create a new numerical table\n",
    "        table_new = np.zeros(\n",
    "            (len(genes), table.shape[1]),\n",
    "            dtype=np.float32,\n",
    "        )\n",
    "        # Transform it into a data frame for convenience\n",
    "        table_new = pd.DataFrame(\n",
    "            table_new,\n",
    "            index=genes,\n",
    "            columns=table.columns,\n",
    "        )\n",
    "        table_new.index.name = \"index\"\n",
    "        # Fill in the data from the old table\n",
    "        table_new.loc[genes_tissue] = table.loc[genes_tissue]\n",
    "        # Overwrite the old table for this tissue and table name (avg, frac)\n",
    "        tdict['celltype'][table_name] = table_new\n",
    "        tdict['features'] = pd.Index(genes)\n",
    "\n",
    "print('Add gene annotations')\n",
    "gene_annos = collect_gene_annotations(anno_fn, genes)\n",
    "    \n",
    "print('Store compressed atlas to file')\n",
    "store_compressed_atlas(\n",
    "            fn_out,\n",
    "            compressed_atlas,\n",
    "            tissues,\n",
    "            None,\n",
    "            celltype_order,\n",
    "        )\n",
    "\n"
   ]
  },
  {
   "cell_type": "code",
   "execution_count": 3,
   "id": "7b5b3ed3",
   "metadata": {},
   "outputs": [
    {
     "data": {
      "text/plain": [
       "<KeysViewHDF5 ['gene_expression']>"
      ]
     },
     "execution_count": 3,
     "metadata": {},
     "output_type": "execute_result"
    }
   ],
   "source": [
    "import h5py\n",
    "h5_file = h5py.File(\"../data/atlas_approximations/d.melanogaster.h5\")\n",
    "h5_file.keys()"
   ]
  },
  {
   "cell_type": "code",
   "execution_count": 23,
   "id": "40e31ea4",
   "metadata": {},
   "outputs": [
    {
     "data": {
      "text/plain": [
       "array(['neuron', 'hemocyte', 'epithelial', 'muscle', 'glial'],\n",
       "      dtype=object)"
      ]
     },
     "execution_count": 23,
     "metadata": {},
     "output_type": "execute_result"
    }
   ],
   "source": [
    "h5_file['gene_expression']['by_tissue']['Antenna']['celltype']"
   ]
  },
  {
   "cell_type": "code",
   "execution_count": 11,
   "id": "a5e9201f",
   "metadata": {},
   "outputs": [
    {
     "data": {
      "text/plain": [
       "{'features': Index(['128up', '14-3-3epsilon', '14-3-3zeta', '140up', '18SrRNA-Psi:CR41602',\n",
       "        '18w', '26-29-p', '28SrRNA-Psi:CR40596', '28SrRNA-Psi:CR40741',\n",
       "        '28SrRNA-Psi:CR41609',\n",
       "        ...\n",
       "        'zf30C', 'zfh1', 'zfh2', 'zip', 'zld', 'zormin', 'zpg', 'zuc', 'zyd',\n",
       "        'zye'],\n",
       "       dtype='object', name='index', length=13411),\n",
       " 'celltype': {'avg':                   neuron  hemocyte    muscle     glial\n",
       "  index                                                 \n",
       "  cbc             0.063151  0.042764  0.023988  0.065609\n",
       "  kn              0.217027  0.105310  0.000000  0.021332\n",
       "  fidipidine      0.116487  0.058817  0.047500  0.086695\n",
       "  CG33758         0.000000  0.000000  0.000000  0.000000\n",
       "  lncRNA:CR45127  0.020842  0.013741  0.000000  0.002200\n",
       "  ...                  ...       ...       ...       ...\n",
       "  Caf1-105        0.045015  0.000000  0.047500  0.045786\n",
       "  CG10853         0.000000  0.000000  0.000000  0.000000\n",
       "  CG12609         0.000000  0.000000  0.000000  0.000000\n",
       "  car             0.140946  0.049139  0.000000  0.150199\n",
       "  CkIIalpha-i3    0.188569  0.345317  0.018728  0.139617\n",
       "  \n",
       "  [16324 rows x 4 columns],\n",
       "  'frac':                   neuron  hemocyte    muscle     glial\n",
       "  index                                                 \n",
       "  cbc             0.016984  0.006329  0.006944  0.015408\n",
       "  kn              0.021376  0.006329  0.000000  0.009245\n",
       "  fidipidine      0.029283  0.012658  0.006944  0.015408\n",
       "  CG33758         0.000000  0.000000  0.000000  0.000000\n",
       "  lncRNA:CR45127  0.003514  0.006329  0.000000  0.001541\n",
       "  ...                  ...       ...       ...       ...\n",
       "  Caf1-105        0.009956  0.000000  0.006944  0.012327\n",
       "  CG10853         0.000000  0.000000  0.000000  0.000000\n",
       "  CG12609         0.000000  0.000000  0.000000  0.000000\n",
       "  car             0.034261  0.012658  0.000000  0.026194\n",
       "  CkIIalpha-i3    0.050952  0.044304  0.006944  0.030817\n",
       "  \n",
       "  [16324 rows x 4 columns],\n",
       "  'ncells': neuron      3415\n",
       "  hemocyte     158\n",
       "  muscle       144\n",
       "  glial        649\n",
       "  dtype: int64}}"
      ]
     },
     "execution_count": 11,
     "metadata": {},
     "output_type": "execute_result"
    }
   ],
   "source": [
    "tdict"
   ]
  },
  {
   "cell_type": "code",
   "execution_count": 44,
   "id": "091caacc",
   "metadata": {},
   "outputs": [
    {
     "name": "stdout",
     "output_type": "stream",
     "text": [
      "Consolidate gene list across tissues\n",
      "Antenna 13203\n",
      "Haltere 12158\n",
      "Heart 12674\n",
      "Intestines 13407\n",
      "Leg 11164\n",
      "Male_reproductive_glands 13668\n",
      "Malpighian_tubule 12843\n",
      "Oenocyte 14644\n"
     ]
    }
   ],
   "source": [
    "print('Consolidate gene list across tissues')\n",
    "\n",
    "# Identify union of all gene lists via unique operations\n",
    "genes = set()\n",
    "for tissue, tdict in compressed_atlas.items():\n",
    "    genest = list(tdict['features'])\n",
    "    print(tissue, len(genest))\n",
    "    genes = genes.union(set(genest))\n",
    "genes = list(genes)\n",
    "\n",
    "# Adapt the count tables for each tissue to use those genes, pad with zeros\n",
    "for tissue, tdict in compressed_atlas.items():\n",
    "    for table_name in ['avg', 'frac']:\n",
    "        table = tdict['celltype'][table_name]\n",
    "        genes_tissue = table.index\n",
    "        # Create a new numerical table\n",
    "        table_new = np.zeros(\n",
    "            (len(genes), table.shape[1]),\n",
    "            dtype=np.float32,\n",
    "        )\n",
    "        # Transform it into a data frame for convenience\n",
    "        table_new = pd.DataFrame(\n",
    "            table_new,\n",
    "            index=genes,\n",
    "            columns=table.columns,\n",
    "        )\n",
    "        table_new.index.name = \"index\"\n",
    "        # Fill in the data from the old table\n",
    "        table_new.loc[genes_tissue] = table.loc[genes_tissue]\n",
    "        # Overwrite the old table for this tissue and table name (avg, frac)\n",
    "        tdict['celltype'][table_name] = table_new"
   ]
  },
  {
   "cell_type": "code",
   "execution_count": 7,
   "id": "207e2e29",
   "metadata": {},
   "outputs": [],
   "source": [
    "sc.pp.subsample?"
   ]
  },
  {
   "cell_type": "code",
   "execution_count": 45,
   "id": "f47607b8",
   "metadata": {},
   "outputs": [
    {
     "data": {
      "text/plain": [
       "{'features': Index(['128up', '14-3-3epsilon', '14-3-3zeta', '140up', '18SrRNA-Psi:CR41602',\n",
       "        '18w', '26-29-p', '28SrRNA-Psi:CR40596', '28SrRNA-Psi:CR40741',\n",
       "        '28SrRNA-Psi:CR41609',\n",
       "        ...\n",
       "        'zf30C', 'zfh1', 'zfh2', 'zip', 'zld', 'zormin', 'zpg', 'zuc', 'zyd',\n",
       "        'zye'],\n",
       "       dtype='object', name='index', length=14644),\n",
       " 'celltype': {'avg':                    neuron  hemocyte  epithelial  adipocyte  oenocyte  \\\n",
       "  index                                                                  \n",
       "  CG9902           0.274321  0.015832    0.010117   0.007317  0.079422   \n",
       "  Su(fu)           0.057585  0.021780    0.118406   0.052984  0.085729   \n",
       "  Sfp38D           0.000000  0.000000    0.010722   0.007831  0.006396   \n",
       "  lncRNA:CR44553   0.000000  0.086571    0.027289   0.000231  1.955495   \n",
       "  AGBE             0.200099  0.502133    0.457042   2.257712  0.801543   \n",
       "  ...                   ...       ...         ...        ...       ...   \n",
       "  mirr             2.744868  0.819372    0.191833   0.012742  9.914907   \n",
       "  CG42759          0.000000  0.000000    0.000000   0.000000  0.000755   \n",
       "  CG3663           0.103292  0.108273    0.364818   0.139972  0.188896   \n",
       "  sowah            0.626371  4.161639    0.398062   2.262225  3.407587   \n",
       "  Fas1            10.335150  0.484663    1.944211   0.013479  3.451403   \n",
       "  \n",
       "                    muscle  gland cell  tracheolar   cardial  \n",
       "  index                                                       \n",
       "  CG9902          0.009676    0.000000    0.058415  0.000000  \n",
       "  Su(fu)          0.097635    0.064514    0.240246  0.121658  \n",
       "  Sfp38D          0.015843    0.000000    0.000000  0.000000  \n",
       "  lncRNA:CR44553  0.000000    0.000000    0.260748  0.000000  \n",
       "  AGBE            1.113208    0.188256    0.309300  0.743209  \n",
       "  ...                  ...         ...         ...       ...  \n",
       "  mirr            0.040587    0.000000    3.224265  0.000000  \n",
       "  CG42759         0.000000    0.000000    0.000000  0.000000  \n",
       "  CG3663          0.185998    0.000000    0.096358  0.092328  \n",
       "  sowah           0.540309    0.763965    1.145129  0.814718  \n",
       "  Fas1            1.440152    2.164374    2.878251  0.095169  \n",
       "  \n",
       "  [15757 rows x 9 columns],\n",
       "  'frac':                   neuron  hemocyte  epithelial  adipocyte  oenocyte    muscle  \\\n",
       "  index                                                                           \n",
       "  CG9902          0.028986  0.006061    0.001166   0.003815  0.026674  0.001386   \n",
       "  Su(fu)          0.021739  0.012121    0.010490   0.024037  0.026941  0.011435   \n",
       "  Sfp38D          0.000000  0.000000    0.001166   0.002671  0.002134  0.002426   \n",
       "  lncRNA:CR44553  0.000000  0.024242    0.006993   0.000382  0.343558  0.000000   \n",
       "  AGBE            0.028986  0.072727    0.043124   0.371614  0.221392  0.115385   \n",
       "  ...                  ...       ...         ...        ...       ...       ...   \n",
       "  mirr            0.173913  0.103030    0.016317   0.001526  0.794345  0.003465   \n",
       "  CG42759         0.000000  0.000000    0.000000   0.000000  0.000267  0.000000   \n",
       "  CG3663          0.021739  0.012121    0.031469   0.053033  0.060816  0.021137   \n",
       "  sowah           0.094203  0.333333    0.050117   0.459367  0.603094  0.058212   \n",
       "  Fas1            0.608696  0.066667    0.145688   0.002671  0.507335  0.110534   \n",
       "  \n",
       "                  gland cell  tracheolar  cardial  \n",
       "  index                                            \n",
       "  CG9902            0.000000    0.004831     0.00  \n",
       "  Su(fu)            0.018519    0.019324     0.15  \n",
       "  Sfp38D            0.000000    0.000000     0.00  \n",
       "  lncRNA:CR44553    0.000000    0.053140     0.00  \n",
       "  AGBE              0.055556    0.067633     0.50  \n",
       "  ...                    ...         ...      ...  \n",
       "  mirr              0.000000    0.246377     0.00  \n",
       "  CG42759           0.000000    0.000000     0.00  \n",
       "  CG3663            0.000000    0.024155     0.10  \n",
       "  sowah             0.185185    0.202899     0.70  \n",
       "  Fas1              0.333333    0.275362     0.15  \n",
       "  \n",
       "  [15757 rows x 9 columns],\n",
       "  'ncells': neuron         138\n",
       "  hemocyte       165\n",
       "  epithelial     858\n",
       "  adipocyte     2621\n",
       "  oenocyte      3749\n",
       "  muscle        2886\n",
       "  gland cell     108\n",
       "  tracheolar     207\n",
       "  cardial         20\n",
       "  dtype: int64}}"
      ]
     },
     "execution_count": 45,
     "metadata": {},
     "output_type": "execute_result"
    }
   ],
   "source": [
    "tdict"
   ]
  },
  {
   "cell_type": "code",
   "execution_count": 18,
   "id": "0b3ed2d3",
   "metadata": {},
   "outputs": [],
   "source": [
    "it, (tissue, data) = [0, ['lung', 999887]]"
   ]
  },
  {
   "cell_type": "code",
   "execution_count": 25,
   "id": "f5e421e7",
   "metadata": {},
   "outputs": [
    {
     "data": {
      "text/plain": [
       "{'name': 'Joanna',\n",
       " 'role': 'data scientist',\n",
       " 'timeinoffice': 3,\n",
       " 'ncolleagues': 5}"
      ]
     },
     "execution_count": 25,
     "metadata": {},
     "output_type": "execute_result"
    }
   ],
   "source": [
    "{'name': 'Joanna', 'role': 'data scientist'}\n",
    "\n",
    "dict(name='Joanna', role='data scientist', timeinoffice=3, ncolleagues=5)"
   ]
  },
  {
   "cell_type": "code",
   "execution_count": null,
   "id": "4dd365a9",
   "metadata": {},
   "outputs": [],
   "source": [
    "a = {\n",
    "    'name': 'Joanna',\n",
    "    'role': 'data scientist',\n",
    "}\n",
    "{ name, role } = a\n",
    "\n",
    "name = a['name']\n",
    "role = a['role']"
   ]
  },
  {
   "cell_type": "code",
   "execution_count": null,
   "id": "88828739",
   "metadata": {},
   "outputs": [
    {
     "name": "stdout",
     "output_type": "stream",
     "text": [
      "Index(['age', 'batch', 'batch_id', 'celda_decontx__clusters',\n",
      "       'celda_decontx__contamination',\n",
      "       'celda_decontx__doublemad_predicted_outliers', 'dissection_lab',\n",
      "       'fca_id', 'fly_genetics', 'id', 'log_n_counts', 'log_n_genes',\n",
      "       'n_counts', 'n_genes', 'note', 'percent_mito', 'sample_id',\n",
      "       'scrublet__doublet_scores', 'scrublet__predicted_doublets',\n",
      "       'scrublet__predicted_doublets_based_on_10x_chromium_spec', 'sex',\n",
      "       'tissue', 'leiden_res0.4', 'leiden_res0.6', 'leiden_res0.8',\n",
      "       'leiden_res1.0', 'leiden_res1.2', 'leiden_res1.4', 'leiden_res1.6',\n",
      "       'leiden_res1.8', 'leiden_res10.0', 'leiden_res2.0', 'leiden_res4.0',\n",
      "       'leiden_res6.0', 'leiden_res8.0', 'annotation',\n",
      "       'annotation__ontology_id', 'annotation_broad',\n",
      "       'annotation_broad__ontology_id', 'annotation_broad_extrapolated',\n",
      "       'annotation_broad_extrapolated__ontology_id', 'R_annotation',\n",
      "       'R_annotation__ontology_id', 'R_annotation_broad',\n",
      "       'R_annotation_broad__ontology_id', 'cellType'],\n",
      "      dtype='object')\n"
     ]
    }
   ],
   "source": [
    "tissue_specific = \"Gut\"\n",
    "tissue_specific_obs = adata_tissue.obs[adata_tissue.obs['tissue'] == tissue_specific]\n",
    "print(tissue_specific_obs.columns)"
   ]
  },
  {
   "cell_type": "code",
   "execution_count": null,
   "id": "dc3da094",
   "metadata": {},
   "outputs": [
    {
     "name": "stdout",
     "output_type": "stream",
     "text": [
      "Index(['age', 'batch', 'batch_id', 'celda_decontx__clusters',\n",
      "       'celda_decontx__contamination',\n",
      "       'celda_decontx__doublemad_predicted_outliers', 'dissection_lab',\n",
      "       'fca_id', 'fly_genetics', 'id', 'log_n_counts', 'log_n_genes',\n",
      "       'n_counts', 'n_genes', 'note', 'percent_mito', 'sample_id',\n",
      "       'scrublet__doublet_scores', 'scrublet__predicted_doublets',\n",
      "       'scrublet__predicted_doublets_based_on_10x_chromium_spec', 'sex',\n",
      "       'tissue', 'leiden_res0.4', 'leiden_res0.6', 'leiden_res0.8',\n",
      "       'leiden_res1.0', 'leiden_res1.2', 'leiden_res1.4', 'leiden_res1.6',\n",
      "       'leiden_res1.8', 'leiden_res10.0', 'leiden_res2.0', 'leiden_res4.0',\n",
      "       'leiden_res6.0', 'leiden_res8.0', 'annotation',\n",
      "       'annotation__ontology_id', 'annotation_broad',\n",
      "       'annotation_broad__ontology_id', 'annotation_broad_extrapolated',\n",
      "       'annotation_broad_extrapolated__ontology_id', 'R_annotation',\n",
      "       'R_annotation__ontology_id', 'R_annotation_broad',\n",
      "       'R_annotation_broad__ontology_id', 'cellType'],\n",
      "      dtype='object')\n"
     ]
    }
   ],
   "source": [
    "table_of_contents = tissue_specific_obs.columns\n",
    "print(table_of_contents)\n"
   ]
  },
  {
   "cell_type": "code",
   "execution_count": null,
   "id": "2cb70bca",
   "metadata": {},
   "outputs": [],
   "source": []
  }
 ],
 "metadata": {
  "kernelspec": {
   "display_name": "Python 3 (ipykernel)",
   "language": "python",
   "name": "python3"
  },
  "language_info": {
   "codemirror_mode": {
    "name": "ipython",
    "version": 3
   },
   "file_extension": ".py",
   "mimetype": "text/x-python",
   "name": "python",
   "nbconvert_exporter": "python",
   "pygments_lexer": "ipython3",
   "version": "3.11.3"
  }
 },
 "nbformat": 4,
 "nbformat_minor": 5
}
